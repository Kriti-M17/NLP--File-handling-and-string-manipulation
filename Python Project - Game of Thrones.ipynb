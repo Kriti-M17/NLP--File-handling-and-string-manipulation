{
 "cells": [
  {
   "cell_type": "markdown",
   "id": "bfd8a9bd",
   "metadata": {},
   "source": [
    "# PYTHON PROJECT"
   ]
  },
  {
   "cell_type": "markdown",
   "id": "9ca42347",
   "metadata": {},
   "source": [
    "# Task1: Find out the number of unique dialogue speaker in the sample conversation"
   ]
  },
  {
   "cell_type": "code",
   "execution_count": 1,
   "id": "e441244c",
   "metadata": {},
   "outputs": [],
   "source": [
    "file=open('conv.txt','r')"
   ]
  },
  {
   "cell_type": "code",
   "execution_count": 2,
   "id": "b19cae5a",
   "metadata": {},
   "outputs": [
    {
     "name": "stdout",
     "output_type": "stream",
     "text": [
      "WILL\n",
      "WAYMAR ROYCE\n",
      "GARED\n",
      "ROYCE\n",
      "JON\n",
      "SEPTA MORDANE\n",
      "SANSA\n",
      "NED\n",
      "ROBB\n",
      "CASSEL\n",
      "CATELYN\n",
      "BRAN\n",
      "THEON\n",
      "CERSEI\n",
      "JAIME\n",
      "ROBERT\n",
      "ARYA\n"
     ]
    }
   ],
   "source": [
    "#creating a list to store the unique speakers name\n",
    "list1 = []\n",
    "\n",
    "#running a loop- reading lines\n",
    "for line in file.readlines():\n",
    "    without_new_line=line.strip()\n",
    "    #split the name which is separated by :\n",
    "    char=without_new_line.split(\":\" ,1)\n",
    "    \n",
    "    #checking the condition - no names should be repeated\n",
    "    #condition - Unique Speaker Names.\n",
    "    if char[0] not in list1: \n",
    "        if char[0]=='':\n",
    "            continue\n",
    "        else: \n",
    "        #appending list to store the names\n",
    "            list1.append(char[0])\n",
    "        \n",
    "#print the names of Unique Speaker       \n",
    "for element in list1:\n",
    "    print(element)"
   ]
  },
  {
   "cell_type": "code",
   "execution_count": 3,
   "id": "da053677",
   "metadata": {},
   "outputs": [
    {
     "data": {
      "text/plain": [
       "17"
      ]
     },
     "execution_count": 3,
     "metadata": {},
     "output_type": "execute_result"
    }
   ],
   "source": [
    "#As told we have to find out the number of unique dialogue speaker\n",
    "len(list1)"
   ]
  },
  {
   "cell_type": "markdown",
   "id": "a6774c8a",
   "metadata": {},
   "source": [
    "# Task 2: Create a new text file by the name of the dialogue speaker and store the unique words spoken by that character in the respective text file. Make sure there is only one word every line."
   ]
  },
  {
   "cell_type": "code",
   "execution_count": 4,
   "id": "59f00959",
   "metadata": {},
   "outputs": [],
   "source": [
    "file=open('conv.txt', 'r')\n",
    "unique_will = []\n",
    "#reading every line of the file\n",
    "for line in file.readlines():\n",
    "    \n",
    "        #checking the line actually said by the speaker\n",
    "        if \"WILL\" in line:\n",
    "            \n",
    "            \n",
    "            #Opening a text file using append function to creates the files \n",
    "            #if data does not exist then add the data at the end of the file.\n",
    "            f = open(\"WILL.txt\", 'a')\n",
    "            #line = line.lower()\n",
    "            words = set(line.split())\n",
    "            words = [word.strip('.,!;()[]') for word in words]\n",
    "            words = [word.replace(\"'s\", '') for word in words]\n",
    "        \n",
    "        #finding unique words said by the speaker \n",
    "            for word in words:\n",
    "                if word not in unique_will:\n",
    "                    unique_will.append(word)\n",
    "                    f.write(word)\n",
    "                    f.write('\\n')\n",
    "            f.close()                    "
   ]
  },
  {
   "cell_type": "code",
   "execution_count": 5,
   "id": "bb0484ae",
   "metadata": {},
   "outputs": [
    {
     "data": {
      "text/plain": [
       "['were', 'They', 'WILL:', 'here']"
      ]
     },
     "execution_count": 5,
     "metadata": {},
     "output_type": "execute_result"
    }
   ],
   "source": [
    "words"
   ]
  },
  {
   "cell_type": "code",
   "execution_count": 6,
   "id": "e473fd31",
   "metadata": {},
   "outputs": [],
   "source": [
    "file=open('conv.txt', 'r')\n",
    "unique_waymar = []\n",
    "\n",
    "#reading every line of the file\n",
    "for line in file.readlines():\n",
    "    \n",
    "        #checking the line actually said by the speaker\n",
    "        if \"WAYMAR ROYCE\" in line:\n",
    "            \n",
    "            \n",
    "            #Opening a text file using append function to creates the files \n",
    "            #if data does not exist then add the data at the end of the file.\n",
    "            f = open(\"WAYMAR ROYCE.txt\", 'a')\n",
    "            #line = line.lower()\n",
    "            words = set(line.split())\n",
    "            words = [word.strip('.,!;()[]') for word in words]\n",
    "            words = [word.replace(\"'s\", '') for word in words]\n",
    "            \n",
    "            #finding unique words said by the speaker \n",
    "            for word in words:\n",
    "                if word not in unique_waymar:\n",
    "                    unique_waymar.append(word)\n",
    "                    f.write(word)\n",
    "                    f.write('\\n')\n",
    "            f.close()"
   ]
  },
  {
   "cell_type": "code",
   "execution_count": 7,
   "id": "4bc45b1d",
   "metadata": {},
   "outputs": [
    {
     "data": {
      "text/plain": [
       "['close', 'How', 'ROYCE:', 'get?', 'you', 'did', 'WAYMAR']"
      ]
     },
     "execution_count": 7,
     "metadata": {},
     "output_type": "execute_result"
    }
   ],
   "source": [
    "words"
   ]
  },
  {
   "cell_type": "code",
   "execution_count": 8,
   "id": "488b1e15",
   "metadata": {},
   "outputs": [],
   "source": [
    "file=open('conv.txt', 'r')\n",
    "unique_gared = []\n",
    "\n",
    "#reading every line of the file\n",
    "for line in file.readlines():\n",
    "    \n",
    "        #checking the line actually said by the speaker\n",
    "        if \"GARED\" in line:\n",
    "            \n",
    "            \n",
    "            #Opening a text file using append function to creates the files  \n",
    "            #if data does not exist then add the data at the end of the file.\n",
    "            f = open(\"GARED.txt\", 'a')\n",
    "            #line = line.lower()\n",
    "            words = set(line.split())\n",
    "            words = [word.strip('.,!;()[]') for word in words]\n",
    "            words = [word.replace(\"'s\", '') for word in words]\n",
    "            \n",
    "            #finding unique words said by the speaker\n",
    "            for word in words:\n",
    "                if word not in unique_gared:\n",
    "                    unique_gared.append(word)\n",
    "                    f.write(word)\n",
    "                    f.write('\\n')\n",
    "            f.close()"
   ]
  },
  {
   "cell_type": "code",
   "execution_count": 9,
   "id": "23b74ed2",
   "metadata": {},
   "outputs": [
    {
     "data": {
      "text/plain": [
       "['GARED:', 'they', 'where', 'See', 'went']"
      ]
     },
     "execution_count": 9,
     "metadata": {},
     "output_type": "execute_result"
    }
   ],
   "source": [
    "words"
   ]
  },
  {
   "cell_type": "code",
   "execution_count": 10,
   "id": "7bf99aed",
   "metadata": {},
   "outputs": [],
   "source": [
    "file=open('conv.txt', 'r')\n",
    "unique_royce = []\n",
    "\n",
    "#checking the line actually said by the speaker\n",
    "for line in file.readlines():\n",
    "    \n",
    "        #checking the line actually said by the speaker\n",
    "        if \"ROYCE\" in line:\n",
    "            \n",
    "            \n",
    "            #Opening a text file using append function to creates the files \n",
    "            #if data does not exist then add the data at the end of the file.\n",
    "            f = open(\"ROYCE.txt\", 'a')\n",
    "            #line = line.lower()\n",
    "            words = set(line.split())\n",
    "            words = [word.strip('.,!;()[]') for word in words]\n",
    "            words = [word.replace(\"'s\", '') for word in words]\n",
    "            \n",
    "            #finding unique words said by the speaker\n",
    "            for word in words:\n",
    "                if word not in unique_royce:\n",
    "                    unique_royce.append(word)\n",
    "                    f.write(word)\n",
    "                    f.write('\\n')\n",
    "            f.close()"
   ]
  },
  {
   "cell_type": "code",
   "execution_count": 11,
   "id": "29e57275",
   "metadata": {},
   "outputs": [
    {
     "data": {
      "text/plain": [
       "['is', 'What', 'it?', 'ROYCE:']"
      ]
     },
     "execution_count": 11,
     "metadata": {},
     "output_type": "execute_result"
    }
   ],
   "source": [
    "words"
   ]
  },
  {
   "cell_type": "code",
   "execution_count": 12,
   "id": "6c1010e6",
   "metadata": {},
   "outputs": [],
   "source": [
    "file=open('conv.txt', 'r')\n",
    "unique_jon = []\n",
    "\n",
    "#checking the line actually said by the speaker\n",
    "for line in file.readlines():\n",
    "    \n",
    "        #checking the line actually said by the speaker\n",
    "        if \"JON\" in line:\n",
    "            \n",
    "            \n",
    "            #Opening a text file using append function to creates the files \n",
    "            #if data does not exist then add the data at the end of the file\n",
    "            f = open(\"JON.txt\", 'a')\n",
    "            #line = line.lower()\n",
    "            words = set(line.split())\n",
    "            words = [word.strip('.,!;()[]') for word in words]\n",
    "            words = [word.replace(\"'s\", '') for word in words]\n",
    "            \n",
    "            #finding unique words said by the speaker\n",
    "            for word in words:\n",
    "                if word not in unique_jon:\n",
    "                    unique_jon.append(word)\n",
    "                    f.write(word)\n",
    "                    f.write('\\n')\n",
    "            f.close()"
   ]
  },
  {
   "cell_type": "code",
   "execution_count": 13,
   "id": "a6d7755b",
   "metadata": {},
   "outputs": [
    {
     "data": {
      "text/plain": [
       "['Iâ€™m', 'a', 'not', 'on', 'Get', 'Stark', 'JON:']"
      ]
     },
     "execution_count": 13,
     "metadata": {},
     "output_type": "execute_result"
    }
   ],
   "source": [
    "words"
   ]
  },
  {
   "cell_type": "code",
   "execution_count": 14,
   "id": "0f3212e0",
   "metadata": {},
   "outputs": [],
   "source": [
    "file=open('conv.txt', 'r')\n",
    "unique_septa = []\n",
    "\n",
    "#checking the line actually said by the speaker\n",
    "for line in file.readlines():\n",
    "    \n",
    "        #checking the line actually said by the speaker\n",
    "        if \"SEPTA MORDANE\" in line:\n",
    "            \n",
    "            \n",
    "            #Opening a text file using append function to creates the files \n",
    "            #if data does not exist then add the data at the end of the file\n",
    "            f = open(\"SEPTA_MORDANE.txt\", 'a')\n",
    "            words = set(line.split())\n",
    "            words = [word.strip('.,!;()[]') for word in words]\n",
    "            words = [word.replace(\"'s\", '') for word in words]\n",
    "            \n",
    "            #finding unique words said by the speaker\n",
    "            for word in words:\n",
    "                if word not in unique_septa:\n",
    "                    unique_septa.append(word)\n",
    "                    f.write(word)\n",
    "                    f.write('\\n')\n",
    "            f.close()"
   ]
  },
  {
   "cell_type": "code",
   "execution_count": 15,
   "id": "c3e0693d",
   "metadata": {},
   "outputs": [
    {
     "data": {
      "text/plain": [
       "['managed',\n",
       " 'in',\n",
       " 'corners',\n",
       " 'I',\n",
       " 'that',\n",
       " 'SEPTA',\n",
       " 'detail',\n",
       " 'to',\n",
       " 'get',\n",
       " 'this',\n",
       " 'the',\n",
       " 'youâ€™ve',\n",
       " 'MORDANE:',\n",
       " 'love']"
      ]
     },
     "execution_count": 15,
     "metadata": {},
     "output_type": "execute_result"
    }
   ],
   "source": [
    "words"
   ]
  },
  {
   "cell_type": "code",
   "execution_count": 16,
   "id": "e59e80ce",
   "metadata": {},
   "outputs": [],
   "source": [
    "file=open('conv.txt', 'r')\n",
    "unique_sansa = []\n",
    "\n",
    "#checking the line actually said by the speaker\n",
    "for line in file.readlines():\n",
    "    \n",
    "        #checking the line actually said by the speaker\n",
    "        if \"SANSA\" in line:\n",
    "            \n",
    "            \n",
    "            #Opening a text file using append function to creates the files \n",
    "            #if data does not exist then add the data at the end of the file.\n",
    "            f = open(\"SANSA.txt\", 'a')\n",
    "            #line = line.lower()\n",
    "            words = set(line.split())\n",
    "            words = [word.strip('.,!;()[]') for word in words]\n",
    "            words = [word.replace(\"'s\", '') for word in words]\n",
    "            \n",
    "            #finding unique words said by the speaker\n",
    "            for word in words:\n",
    "                if word not in unique_sansa:\n",
    "                    unique_sansa.append(word)\n",
    "                    f.write(word)\n",
    "                    f.write('\\n')\n",
    "            f.close()\n",
    "        "
   ]
  },
  {
   "cell_type": "code",
   "execution_count": 17,
   "id": "c989928f",
   "metadata": {},
   "outputs": [
    {
     "data": {
      "text/plain": [
       "['up', 'Would', 'SANSA:', 'you', 'shut', 'please']"
      ]
     },
     "execution_count": 17,
     "metadata": {},
     "output_type": "execute_result"
    }
   ],
   "source": [
    "words"
   ]
  },
  {
   "cell_type": "code",
   "execution_count": 18,
   "id": "98938358",
   "metadata": {},
   "outputs": [],
   "source": [
    "file=open('conv.txt', 'r')\n",
    "unique_ned = []\n",
    "\n",
    "#checking the line actually said by the speaker\n",
    "for line in file.readlines():\n",
    "    \n",
    "        #checking the line actually said by the speaker\n",
    "        if \"NED\" in line:\n",
    "            \n",
    "            \n",
    "            #Opening a text file using append function to creates the files.  \n",
    "            #if data does not exist then add the data at the end of the file.\n",
    "            f = open(\"NED.txt\", 'a')\n",
    "            words = set(line.split())\n",
    "            words = [word.strip('.,!;()[]') for word in words]\n",
    "            words = [word.replace(\"'s\", '') for word in words]\n",
    "            \n",
    "            \n",
    "            #finding unique words said by the speaker\n",
    "            for word in words:\n",
    "                if word not in unique_ned:\n",
    "                    unique_ned.append(word)\n",
    "                    f.write(word)\n",
    "                    f.write('\\n')\n",
    "            f.close()\n",
    "            \n",
    "                        "
   ]
  },
  {
   "cell_type": "code",
   "execution_count": 19,
   "id": "ceb32b33",
   "metadata": {},
   "outputs": [
    {
     "data": {
      "text/plain": [
       "['Aye', 'NED:']"
      ]
     },
     "execution_count": 19,
     "metadata": {},
     "output_type": "execute_result"
    }
   ],
   "source": [
    "words"
   ]
  },
  {
   "cell_type": "code",
   "execution_count": 20,
   "id": "f5850171",
   "metadata": {},
   "outputs": [],
   "source": [
    "file=open('conv.txt', 'r')\n",
    "unique_robb = []\n",
    "\n",
    "#checking the line actually said by the speaker\n",
    "for line in file.readlines():\n",
    "    \n",
    "        #checking the line actually said by the speaker\n",
    "        if \"ROBB\" in line:\n",
    "            \n",
    "            \n",
    "            #Opening a text file using append function to creates the files\n",
    "            #if data does not exist then add the data at the end of the file.\n",
    "            f = open(\"ROBB.txt\", 'a')\n",
    "            words = set(line.split())\n",
    "            words = [word.strip('.,!;()[]') for word in words]\n",
    "            words = [word.replace(\"'s\", '') for word in words]\n",
    "            \n",
    "            #finding unique words said by the speaker\n",
    "            for word in words:\n",
    "                if word not in unique_robb:\n",
    "                    unique_robb.append(word)\n",
    "                    f.write(word)\n",
    "                    f.write('\\n')\n",
    "            f.close()"
   ]
  },
  {
   "cell_type": "code",
   "execution_count": 21,
   "id": "b5e677a8",
   "metadata": {},
   "outputs": [
    {
     "data": {
      "text/plain": [
       "['than',\n",
       " 'better',\n",
       " 'shave',\n",
       " 'Go',\n",
       " 'Heâ€™s',\n",
       " 'Tommy',\n",
       " 'never',\n",
       " 'he',\n",
       " 'likes',\n",
       " 'him',\n",
       " 'good',\n",
       " 'hair',\n",
       " 'his',\n",
       " 'met',\n",
       " 'on',\n",
       " 'a',\n",
       " 'ROBB:',\n",
       " 'own',\n",
       " 'girl']"
      ]
     },
     "execution_count": 21,
     "metadata": {},
     "output_type": "execute_result"
    }
   ],
   "source": [
    "words"
   ]
  },
  {
   "cell_type": "code",
   "execution_count": 22,
   "id": "c93c5003",
   "metadata": {},
   "outputs": [],
   "source": [
    "file=open('conv.txt', 'r')\n",
    "unique_cassel = []\n",
    "\n",
    "#checking the line actually said by the speaker\n",
    "for line in file.readlines():\n",
    "    \n",
    "        #checking the line actually said by the speaker\n",
    "        if \"CASSEL\" in line:\n",
    "            \n",
    "            \n",
    "            #Opening a text file using append function to creates the files\n",
    "            #if data does not exist then add the data at the end of the file.\n",
    "            f = open(\"CASSEL.txt\", 'a')\n",
    "            words = set(line.split())\n",
    "            words = [word.strip('.,!;()[]') for word in words]\n",
    "            words = [word.replace(\"'s\", '') for word in words]\n",
    "            \n",
    "            #finding unique words said by the speaker\n",
    "            for word in words:\n",
    "                if word not in unique_cassel:\n",
    "                    unique_cassel.append(word)\n",
    "                    f.write(word)\n",
    "                    f.write('\\n')\n",
    "            f.close()"
   ]
  },
  {
   "cell_type": "code",
   "execution_count": 23,
   "id": "a6f1dce3",
   "metadata": {},
   "outputs": [
    {
     "data": {
      "text/plain": [
       "['They', 'CASSEL:', 'donâ€™t', 'here', 'down', 'belong']"
      ]
     },
     "execution_count": 23,
     "metadata": {},
     "output_type": "execute_result"
    }
   ],
   "source": [
    "words"
   ]
  },
  {
   "cell_type": "code",
   "execution_count": 24,
   "id": "c2aa8e62",
   "metadata": {},
   "outputs": [],
   "source": [
    "file=open('conv.txt', 'r')\n",
    "unique_catelyn = []\n",
    "\n",
    "#checking the line actually said by the speaker\n",
    "for line in file.readlines():\n",
    "    \n",
    "        #checking the line actually said by the speaker\n",
    "        if \"CATELYN\" in line:\n",
    "            \n",
    "            \n",
    "            #Opening a text file using append function to creates the files\n",
    "            #if data does not exist then add the data at the end of the file.\n",
    "            f = open(\"CATELYN.txt\", 'a')\n",
    "            words = set(line.split())\n",
    "            words = [word.strip('.,!;()[]') for word in words]\n",
    "            words = [word.replace(\"'s\", '') for word in words]\n",
    "            \n",
    "            #finding unique words said by the speaker\n",
    "            for word in words:\n",
    "                if word not in unique_catelyn:\n",
    "                    unique_catelyn.append(word)\n",
    "                    f.write(word)\n",
    "                    f.write('\\n')\n",
    "            f.close()"
   ]
  },
  {
   "cell_type": "code",
   "execution_count": 25,
   "id": "db291717",
   "metadata": {},
   "outputs": [
    {
     "data": {
      "text/plain": [
       "['My', 'CATELYN:', 'queen']"
      ]
     },
     "execution_count": 25,
     "metadata": {},
     "output_type": "execute_result"
    }
   ],
   "source": [
    "words"
   ]
  },
  {
   "cell_type": "code",
   "execution_count": 26,
   "id": "bd0aecf9",
   "metadata": {},
   "outputs": [],
   "source": [
    "file=open('conv.txt', 'r')\n",
    "unique_bran = []\n",
    "\n",
    "#checking the line actually said by the speaker\n",
    "for line in file.readlines():\n",
    "    \n",
    "        #checking the line actually said by the speaker\n",
    "        if \"BRAN\" in line:\n",
    "            \n",
    "            \n",
    "            #Opening a text file using append function to creates the files \n",
    "            #if data does not exist then add the data at the end of the file.\n",
    "            f = open(\"BRAN.txt\", 'a')\n",
    "            words = set(line.split())\n",
    "            words = [word.strip('.,!;()[]') for word in words]\n",
    "            words = [word.replace(\"'s\", '') for word in words]\n",
    "            \n",
    "            #finding unique words said by the speaker\n",
    "            for word in words:\n",
    "                if word not in unique_bran:\n",
    "                    unique_bran.append(word)\n",
    "                    f.write(word)\n",
    "                    f.write('\\n')\n",
    "            f.close()"
   ]
  },
  {
   "cell_type": "code",
   "execution_count": 27,
   "id": "ee56c704",
   "metadata": {},
   "outputs": [
    {
     "data": {
      "text/plain": [
       "['heâ€™s', 'BRAN:', 'road', 'our', 'But', 'right', 'coming', 'Down', 'now']"
      ]
     },
     "execution_count": 27,
     "metadata": {},
     "output_type": "execute_result"
    }
   ],
   "source": [
    "words"
   ]
  },
  {
   "cell_type": "code",
   "execution_count": 28,
   "id": "5ef153ac",
   "metadata": {},
   "outputs": [],
   "source": [
    "file=open('conv.txt', 'r')\n",
    "unique_theon = []\n",
    "\n",
    "#checking the line actually said by the speaker\n",
    "for line in file.readlines():\n",
    "    \n",
    "        #checking the line actually said by the speaker\n",
    "        if \"THEON\" in line:\n",
    "            \n",
    "            \n",
    "            #Opening a text file using append function to creates the files \n",
    "            #if data does not exist then add the data at the end of the file\n",
    "            f = open(\"THEON.txt\", 'a')\n",
    "            words = set(line.split())\n",
    "            words = [word.strip('.,!;()[]') for word in words]\n",
    "            words = [word.replace(\"'s\", '') for word in words]\n",
    "            \n",
    "           #finding unique words said by the speaker\n",
    "            for word in words:\n",
    "                if word not in unique_theon:\n",
    "                    unique_theon.append(word)\n",
    "                    f.write(word)\n",
    "                    f.write('\\n')\n",
    "            f.close()"
   ]
  },
  {
   "cell_type": "code",
   "execution_count": 29,
   "id": "5cc4982e",
   "metadata": {},
   "outputs": [
    {
     "data": {
      "text/plain": [
       "['girls',\n",
       " 'THEON:',\n",
       " 'all',\n",
       " 'his',\n",
       " 'southern',\n",
       " 'prick',\n",
       " 'right',\n",
       " 'of',\n",
       " 'those',\n",
       " 'Think',\n",
       " 'to',\n",
       " 'gets',\n",
       " 'stab',\n",
       " 'with',\n",
       " 'he',\n",
       " 'royal']"
      ]
     },
     "execution_count": 29,
     "metadata": {},
     "output_type": "execute_result"
    }
   ],
   "source": [
    "words"
   ]
  },
  {
   "cell_type": "code",
   "execution_count": 30,
   "id": "53b098e8",
   "metadata": {},
   "outputs": [],
   "source": [
    "file=open('conv.txt', 'r')\n",
    "unique_cersei = []\n",
    "\n",
    "#checking the line actually said by the speaker\n",
    "for line in file.readlines():\n",
    "    \n",
    "        #checking the line actually said by the speaker\n",
    "        if \"CERSEI\" in line:\n",
    "            \n",
    "            \n",
    "            #Opening a text file using append function to creates the files \n",
    "            #if data does not exist then add the data at the end of the file\n",
    "            f = open(\"CERSEI.txt\", 'a')\n",
    "            words = set(line.split())\n",
    "            words = [word.strip('.,!;()[]') for word in words]\n",
    "            words = [word.replace(\"'s\", '') for word in words]\n",
    "            \n",
    "            #finding unique words said by the speaker\n",
    "            for word in words:\n",
    "                if word not in unique_cersei:\n",
    "                    unique_cersei.append(word)\n",
    "                    f.write(word)\n",
    "                    f.write('\\n')\n",
    "            f.close()"
   ]
  },
  {
   "cell_type": "code",
   "execution_count": 31,
   "id": "a8e14646",
   "metadata": {},
   "outputs": [
    {
     "data": {
      "text/plain": [
       "['CERSEI:',\n",
       " 'our',\n",
       " 'brother?',\n",
       " 'Where',\n",
       " 'beast',\n",
       " 'little',\n",
       " 'Go',\n",
       " 'find',\n",
       " 'the',\n",
       " 'is']"
      ]
     },
     "execution_count": 31,
     "metadata": {},
     "output_type": "execute_result"
    }
   ],
   "source": [
    "words"
   ]
  },
  {
   "cell_type": "code",
   "execution_count": 32,
   "id": "84b7d3c9",
   "metadata": {},
   "outputs": [],
   "source": [
    "file=open('conv.txt', 'r')\n",
    "unique_jaime = []\n",
    "\n",
    "#checking the line actually said by the speaker\n",
    "for line in file.readlines():\n",
    "    \n",
    "        #checking the line actually said by the speaker\n",
    "        if \"JAIME\" in line:\n",
    "            \n",
    "            \n",
    "            #Opening a text file using append function to creates the files. \n",
    "            #if data does not exist then add the data at the end of the file.\n",
    "            f = open(\"JAIME.txt\", 'a')\n",
    "            words = set(line.split())\n",
    "            words = [word.strip('.,!;()[]') for word in words]\n",
    "            words = [word.replace(\"'s\", '') for word in words]\n",
    "            \n",
    "            #finding unique words said by the speaker\n",
    "            for word in words:\n",
    "                if word not in unique_jaime:\n",
    "                    unique_jaime.append(word)\n",
    "                    f.write(word)\n",
    "                    f.write('\\n')\n",
    "            f.close()"
   ]
  },
  {
   "cell_type": "code",
   "execution_count": 33,
   "id": "e85cc3d1",
   "metadata": {},
   "outputs": [
    {
     "data": {
      "text/plain": [
       "['can',\n",
       " 'do',\n",
       " 'Their',\n",
       " 'days',\n",
       " 'too',\n",
       " 'I',\n",
       " 'short',\n",
       " 'without',\n",
       " 'an',\n",
       " 'JAIME:',\n",
       " 'are',\n",
       " 'long',\n",
       " 'Thatâ€™s',\n",
       " 'their',\n",
       " 'lives',\n",
       " 'honor']"
      ]
     },
     "execution_count": 33,
     "metadata": {},
     "output_type": "execute_result"
    }
   ],
   "source": [
    "words"
   ]
  },
  {
   "cell_type": "code",
   "execution_count": 34,
   "id": "4b00276a",
   "metadata": {},
   "outputs": [],
   "source": [
    "file=open('conv.txt', 'r')\n",
    "unique_robert = []\n",
    "\n",
    "#checking the line actually said by the speaker\n",
    "for line in file.readlines():\n",
    "    \n",
    "        #checking the line actually said by the speaker\n",
    "        if \"ROBERT\" in line:\n",
    "            \n",
    "            #Opening a text file using append function to creates the files. \n",
    "            #if data does not exist then add the data at the end of the file.\n",
    "            f = open(\"ROBERT.txt\", 'a')\n",
    "            words = set(line.split())\n",
    "            words = [word.strip('.,!;()[]') for word in words]\n",
    "            words = [word.replace(\"'s\", '') for word in words]\n",
    "            \n",
    "            #finding unique words said by the speaker\n",
    "            for word in words:\n",
    "                if word not in unique_robert:\n",
    "                    unique_robert.append(word)\n",
    "                    f.write(word)\n",
    "                    f.write('\\n')\n",
    "            f.close()"
   ]
  },
  {
   "cell_type": "code",
   "execution_count": 35,
   "id": "d2442f55",
   "metadata": {},
   "outputs": [
    {
     "data": {
      "text/plain": [
       "['do',\n",
       " 'ROBERT:',\n",
       " 'me',\n",
       " 'what',\n",
       " 'You',\n",
       " 'girls',\n",
       " 'wanted',\n",
       " 'was',\n",
       " 'He',\n",
       " 'what',\n",
       " 'never',\n",
       " 'teach',\n",
       " 'had',\n",
       " 'I',\n",
       " 'skulls',\n",
       " 'fuck',\n",
       " 'at',\n",
       " 'All',\n",
       " '16?',\n",
       " 'much',\n",
       " 'crack',\n",
       " 'â€¦',\n",
       " 'remember',\n",
       " 'to',\n",
       " 'and',\n",
       " 'but',\n",
       " 'you',\n",
       " 'showed']"
      ]
     },
     "execution_count": 35,
     "metadata": {},
     "output_type": "execute_result"
    }
   ],
   "source": [
    "words"
   ]
  },
  {
   "cell_type": "code",
   "execution_count": 36,
   "id": "71b46ff6",
   "metadata": {},
   "outputs": [],
   "source": [
    "file=open('conv.txt', 'r')\n",
    "unique_arya = []\n",
    "\n",
    "#checking the line actually said by the speaker\n",
    "for line in file.readlines():\n",
    "    \n",
    "        #checking the line actually said by the speaker\n",
    "        if \"ARYA\" in line:\n",
    "            \n",
    "            \n",
    "            #Opening a text file using append function to creates the files\n",
    "            #if data does not exist then add the data at the end of the file.\n",
    "            f = open(\"ARYA.txt\", 'a')\n",
    "            words = set(line.split())\n",
    "            words = [word.strip('.,!;()[]') for word in words]\n",
    "            words = [word.replace(\"'s\", '') for word in words]\n",
    "            \n",
    "            #finding unique words said by the speaker\n",
    "            for word in words:\n",
    "                if word not in unique_arya:\n",
    "                    unique_arya.append(word)\n",
    "                    f.write(word)\n",
    "                    f.write('\\n')\n",
    "            f.close()"
   ]
  },
  {
   "cell_type": "code",
   "execution_count": 37,
   "id": "4aba0d2a",
   "metadata": {},
   "outputs": [
    {
     "data": {
      "text/plain": [
       "['the', 'ARYA:', 'Imp?', 'Whereâ€™s']"
      ]
     },
     "execution_count": 37,
     "metadata": {},
     "output_type": "execute_result"
    }
   ],
   "source": [
    "words"
   ]
  },
  {
   "cell_type": "code",
   "execution_count": 38,
   "id": "2a928b2d",
   "metadata": {},
   "outputs": [],
   "source": [
    "#END"
   ]
  }
 ],
 "metadata": {
  "kernelspec": {
   "display_name": "Python 3 (ipykernel)",
   "language": "python",
   "name": "python3"
  },
  "language_info": {
   "codemirror_mode": {
    "name": "ipython",
    "version": 3
   },
   "file_extension": ".py",
   "mimetype": "text/x-python",
   "name": "python",
   "nbconvert_exporter": "python",
   "pygments_lexer": "ipython3",
   "version": "3.9.7"
  }
 },
 "nbformat": 4,
 "nbformat_minor": 5
}
